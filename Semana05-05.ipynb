{
 "cells": [
  {
   "cell_type": "markdown",
   "id": "e302c270",
   "metadata": {},
   "source": [
    "# SEMANA 05\n",
    "Daniel Omar Diaz Seminario"
   ]
  },
  {
   "cell_type": "markdown",
   "id": "fade2d7d",
   "metadata": {},
   "source": [
    "Temas\n",
    "1. Números \n",
    "2. Variables\n",
    "3. Manejo de Cadenas\n",
    "4. Ingreso de datos por teclado\n",
    "5. Operadores"
   ]
  },
  {
   "cell_type": "markdown",
   "id": "8d0f0b83",
   "metadata": {},
   "source": [
    "# 5. Operadores"
   ]
  },
  {
   "cell_type": "markdown",
   "id": "f52d4fa7",
   "metadata": {},
   "source": [
    "# 5.1 Operadores Aritméticos"
   ]
  },
  {
   "cell_type": "markdown",
   "id": "b826b96f",
   "metadata": {},
   "source": [
    "# Se tiene +, -, *, /, **, //"
   ]
  },
  {
   "cell_type": "code",
   "execution_count": 9,
   "id": "a1f37191",
   "metadata": {},
   "outputs": [
    {
     "name": "stdout",
     "output_type": "stream",
     "text": [
      "13\n",
      "7\n",
      "30\n",
      "3.3333333333333335\n",
      "1\n",
      "1000\n",
      "3\n"
     ]
    }
   ],
   "source": [
    "numero1 = 10\n",
    "numero2 = 3\n",
    "suma = numero1 + numero2 \n",
    "resta = numero1 - numero2\n",
    "multiplicacion = numero1 * numero2\n",
    "division = numero1 / numero2\n",
    "residuo = numero1 % numero2\n",
    "potencia = numero1 ** numero2\n",
    "cociente = numero1 // numero2 \n",
    "print(suma)\n",
    "print(resta)\n",
    "print(multiplicacion)\n",
    "print(division)\n",
    "print(residuo)\n",
    "print(potencia)\n",
    "print(cociente)"
   ]
  },
  {
   "cell_type": "markdown",
   "id": "95741564",
   "metadata": {},
   "source": [
    "# 5.2 Operadores de Asignación\n",
    "# Se tienen"
   ]
  },
  {
   "cell_type": "markdown",
   "id": "e5c9bd4c",
   "metadata": {},
   "source": [
    "# +=, -=, *=, /=,**="
   ]
  },
  {
   "cell_type": "code",
   "execution_count": 10,
   "id": "faa98591",
   "metadata": {},
   "outputs": [
    {
     "name": "stdout",
     "output_type": "stream",
     "text": [
      "8\n"
     ]
    }
   ],
   "source": [
    "numero = 5\n",
    "numero = numero + 3\n",
    "print(numero)"
   ]
  },
  {
   "cell_type": "code",
   "execution_count": 20,
   "id": "d4b50085",
   "metadata": {},
   "outputs": [
    {
     "name": "stdout",
     "output_type": "stream",
     "text": [
      "8\n"
     ]
    }
   ],
   "source": [
    "numero = 5\n",
    "numero += 3\n",
    "print(numero)"
   ]
  },
  {
   "cell_type": "code",
   "execution_count": 22,
   "id": "46f98dc6",
   "metadata": {},
   "outputs": [
    {
     "name": "stdout",
     "output_type": "stream",
     "text": [
      "125\n"
     ]
    }
   ],
   "source": [
    "numero = 5\n",
    "numero **= 3\n",
    "print(numero)"
   ]
  },
  {
   "cell_type": "markdown",
   "id": "e8c44ead",
   "metadata": {},
   "source": [
    "# Operadores de Comparación\n",
    "se tiene: ==, !=, <,>, <= , >="
   ]
  },
  {
   "cell_type": "code",
   "execution_count": 23,
   "id": "9950a4f6",
   "metadata": {},
   "outputs": [
    {
     "data": {
      "text/plain": [
       "False"
      ]
     },
     "execution_count": 23,
     "metadata": {},
     "output_type": "execute_result"
    }
   ],
   "source": [
    " #Ejemplo de igualdad\n",
    "numero1 = 5\n",
    "numero2 = 2\n",
    "numero1 == numero2"
   ]
  },
  {
   "cell_type": "code",
   "execution_count": 35,
   "id": "c675c7fa",
   "metadata": {},
   "outputs": [
    {
     "data": {
      "text/plain": [
       "False"
      ]
     },
     "execution_count": 35,
     "metadata": {},
     "output_type": "execute_result"
    }
   ],
   "source": [
    "# probando con cadenas\n",
    "nombre1 = \"Daniel\"\n",
    "nombre2 = \"Jose\"\n",
    "nombre3 = \"Daniel\"\n",
    "nombre1 == nombre2"
   ]
  },
  {
   "cell_type": "code",
   "execution_count": 32,
   "id": "5daf27f9",
   "metadata": {},
   "outputs": [
    {
     "data": {
      "text/plain": [
       "True"
      ]
     },
     "execution_count": 32,
     "metadata": {},
     "output_type": "execute_result"
    }
   ],
   "source": [
    "nombre1 = \"Daniel\"\n",
    "nombre2 = \"Daniel\"\n",
    "nombre1 == nombre2"
   ]
  },
  {
   "cell_type": "markdown",
   "id": "897a8e97",
   "metadata": {},
   "source": [
    "# 5.4 Operadores Lógicos\n",
    "se tiene: and, or, not"
   ]
  },
  {
   "cell_type": "code",
   "execution_count": 36,
   "id": "d991c8dd",
   "metadata": {},
   "outputs": [
    {
     "data": {
      "text/plain": [
       "True"
      ]
     },
     "execution_count": 36,
     "metadata": {},
     "output_type": "execute_result"
    }
   ],
   "source": [
    "numero1 = 5\n",
    "numero2 = 6\n",
    "numero3 = 7\n",
    "numero4 = 8\n",
    "numero1 < numero2"
   ]
  },
  {
   "cell_type": "code",
   "execution_count": 37,
   "id": "85118aa1",
   "metadata": {},
   "outputs": [
    {
     "data": {
      "text/plain": [
       "False"
      ]
     },
     "execution_count": 37,
     "metadata": {},
     "output_type": "execute_result"
    }
   ],
   "source": [
    "#el not invierte el resultado\n",
    "not (numero1<numero2)"
   ]
  },
  {
   "cell_type": "code",
   "execution_count": 42,
   "id": "24adfade",
   "metadata": {},
   "outputs": [
    {
     "data": {
      "text/plain": [
       "True"
      ]
     },
     "execution_count": 42,
     "metadata": {},
     "output_type": "execute_result"
    }
   ],
   "source": [
    "  numero1 < numero2 and numero3 < numero4\n",
    "#    5    <    6     y   7      <  8"
   ]
  },
  {
   "cell_type": "code",
   "execution_count": 40,
   "id": "03ef7711",
   "metadata": {},
   "outputs": [
    {
     "data": {
      "text/plain": [
       "True"
      ]
     },
     "execution_count": 40,
     "metadata": {},
     "output_type": "execute_result"
    }
   ],
   "source": [
    "#Tambien se puede utilizar () para ordenar la operacion\n",
    "(numero1)<(numero2) and (numero3)<(numero4) or (numero3) > (numero4)\n",
    "#  5     <    6      y      7    <   8      o      7     >     8  "
   ]
  },
  {
   "cell_type": "code",
   "execution_count": 43,
   "id": "841fa53d",
   "metadata": {},
   "outputs": [
    {
     "data": {
      "text/plain": [
       "True"
      ]
     },
     "execution_count": 43,
     "metadata": {},
     "output_type": "execute_result"
    }
   ],
   "source": [
    "(numero1) < (numero3) or (numero2) > (numero4)\n",
    "#  5      <     7     o     6      >     8 "
   ]
  },
  {
   "cell_type": "markdown",
   "id": "2c46a380",
   "metadata": {},
   "source": [
    "# 5.5 Operadores de Pertenencia\n",
    "#Tenemos: in, not in"
   ]
  },
  {
   "cell_type": "code",
   "execution_count": 45,
   "id": "3131b8e4",
   "metadata": {},
   "outputs": [
    {
     "data": {
      "text/plain": [
       "False"
      ]
     },
     "execution_count": 45,
     "metadata": {},
     "output_type": "execute_result"
    }
   ],
   "source": [
    "#Ejemplo:\n",
    "aula = [\"Juan\",\"Daniel\",\"Ruben\"]\n",
    "alumno1 = \"Diego\"\n",
    "alumno2 = \"Juan\"\n",
    "# ¿Diego está en el aula?\n",
    "alumno1 in aula"
   ]
  },
  {
   "cell_type": "code",
   "execution_count": 46,
   "id": "9867609f",
   "metadata": {},
   "outputs": [
    {
     "data": {
      "text/plain": [
       "True"
      ]
     },
     "execution_count": 46,
     "metadata": {},
     "output_type": "execute_result"
    }
   ],
   "source": [
    "#¿Juan está en aula?\n",
    "alumno2 in aula"
   ]
  },
  {
   "cell_type": "code",
   "execution_count": 47,
   "id": "2c6d3092",
   "metadata": {},
   "outputs": [
    {
     "data": {
      "text/plain": [
       "True"
      ]
     },
     "execution_count": 47,
     "metadata": {},
     "output_type": "execute_result"
    }
   ],
   "source": [
    "#¿Diego no está en aula?\n",
    "alumno1 not in aula"
   ]
  },
  {
   "cell_type": "code",
   "execution_count": 48,
   "id": "e35fa56f",
   "metadata": {},
   "outputs": [
    {
     "data": {
      "text/plain": [
       "False"
      ]
     },
     "execution_count": 48,
     "metadata": {},
     "output_type": "execute_result"
    }
   ],
   "source": [
    "#¿Juan no está en aula?\n",
    "alumno2 not in aula"
   ]
  },
  {
   "cell_type": "markdown",
   "id": "9febf118",
   "metadata": {},
   "source": [
    "# Operadores de Identidad\n",
    "se tiene: is, is not"
   ]
  },
  {
   "cell_type": "code",
   "execution_count": 51,
   "id": "7c57bc20",
   "metadata": {},
   "outputs": [
    {
     "data": {
      "text/plain": [
       "True"
      ]
     },
     "execution_count": 51,
     "metadata": {},
     "output_type": "execute_result"
    }
   ],
   "source": [
    "aula1 = [\"Juan\",\"Daniel\",\"Ruben\"]\n",
    "aula2 = [\"Juan\",\"Daniel\",\"Ruben\"]\n",
    "# A continuación vamos a indicar que aula3 va a compartir(asignar) el mismo objeto\n",
    "# que aula1\n",
    "aula3 = aula1\n",
    "#¿Aula3 comparte el mismo objeto que aula1?\n",
    "aula3 is aula1"
   ]
  },
  {
   "cell_type": "code",
   "execution_count": 52,
   "id": "3aa3f198",
   "metadata": {},
   "outputs": [
    {
     "data": {
      "text/plain": [
       "False"
      ]
     },
     "execution_count": 52,
     "metadata": {},
     "output_type": "execute_result"
    }
   ],
   "source": [
    "#Aula 3 comparte el mismo objeto que aula2?\n",
    "aula3 is aula2"
   ]
  },
  {
   "cell_type": "code",
   "execution_count": 53,
   "id": "a42cb9b3",
   "metadata": {},
   "outputs": [
    {
     "data": {
      "text/plain": [
       "False"
      ]
     },
     "execution_count": 53,
     "metadata": {},
     "output_type": "execute_result"
    }
   ],
   "source": [
    "# Aula2 compárte el mismo objeto que aula1?\n",
    "# Es falso porque aparentemente tienen los mismos elementos pero\n",
    "# pueden tener los mismos valores pero no el mismo objeto\n",
    "# aula1 y aula2 son objetos diferentes, no se compara valores sino objetos\n",
    "\n",
    "aula2 is aula1"
   ]
  },
  {
   "cell_type": "code",
   "execution_count": 54,
   "id": "0b8c6e2e",
   "metadata": {},
   "outputs": [],
   "source": [
    "#Añadiendo elementos a aula1\n",
    "aula1.append(\"Diego\")"
   ]
  },
  {
   "cell_type": "code",
   "execution_count": 56,
   "id": "cd411370",
   "metadata": {},
   "outputs": [
    {
     "name": "stdout",
     "output_type": "stream",
     "text": [
      "['Juan', 'Daniel', 'Ruben', 'Diego']\n",
      "['Juan', 'Daniel', 'Ruben', 'Diego']\n"
     ]
    }
   ],
   "source": [
    "# al imprimir los elementos de la lista aula1 observamos\n",
    "# al añadir al aula1 un elemento aula3 tambien lo tendrá\n",
    "# ya que al inicio hicimos que se asignara aula1 con aula2\n",
    "print(aula1)\n",
    "print(aula3)"
   ]
  },
  {
   "cell_type": "code",
   "execution_count": null,
   "id": "b352dad7",
   "metadata": {},
   "outputs": [],
   "source": []
  }
 ],
 "metadata": {
  "kernelspec": {
   "display_name": "Python 3",
   "language": "python",
   "name": "python3"
  },
  "language_info": {
   "codemirror_mode": {
    "name": "ipython",
    "version": 3
   },
   "file_extension": ".py",
   "mimetype": "text/x-python",
   "name": "python",
   "nbconvert_exporter": "python",
   "pygments_lexer": "ipython3",
   "version": "3.8.8"
  }
 },
 "nbformat": 4,
 "nbformat_minor": 5
}
