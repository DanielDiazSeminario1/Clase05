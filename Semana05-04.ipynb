{
 "cells": [
  {
   "cell_type": "markdown",
   "id": "972c8423",
   "metadata": {},
   "source": [
    "# SEMANA 05\n",
    "Daniel Omar Diaz Seminario"
   ]
  },
  {
   "cell_type": "markdown",
   "id": "6d429a1a",
   "metadata": {},
   "source": [
    "Temas\n",
    "1. Números \n",
    "2. Variables\n",
    "3. Manejo de Cadenas\n",
    "4. Ingreso de datos por teclado\n",
    "5. Operadores"
   ]
  },
  {
   "cell_type": "markdown",
   "id": "3a76dbc7",
   "metadata": {},
   "source": [
    "4. Ingreso de datos por teclado"
   ]
  },
  {
   "cell_type": "code",
   "execution_count": 3,
   "id": "761da0cd",
   "metadata": {},
   "outputs": [
    {
     "name": "stdout",
     "output_type": "stream",
     "text": [
      "¿Cuál es tu nombre?\n",
      "Daniel Omar\n",
      "hola Daniel Omar\n"
     ]
    }
   ],
   "source": [
    "# FUNCIÓN INPUT()\n",
    "print(\"¿Cuál es tu nombre?\")\n",
    "nombre = input()\n",
    "print(\"hola \" + nombre)"
   ]
  },
  {
   "cell_type": "code",
   "execution_count": 7,
   "id": "dc18077c",
   "metadata": {},
   "outputs": [
    {
     "name": "stdout",
     "output_type": "stream",
     "text": [
      "Número1: \n",
      "10\n",
      "numero2: \n",
      "12\n",
      "numéro3 = 22\n"
     ]
    }
   ],
   "source": [
    "# Cuando ingresa un valor por teclado lo hace como cadena\n",
    "# Sí solo ponemos + numero3 nos mandará error entonces\n",
    "# numero3 lo convertir a una cadena para que se pueda imprimir de esta forma\n",
    "# forma personal de hacer\n",
    "print(\"Número1: \")\n",
    "numero1 = input()\n",
    "print(\"numero2: \")\n",
    "numero2 = input()\n",
    "numero3 = int(numero1) + int(numero2) \n",
    "#aqui convierto el numero3 que es un int a una cadena str con\n",
    "# otro nombre, en este caso resultado \n",
    "resultado = str(numero3)\n",
    "print(\"numéro3 = \" + resultado)"
   ]
  },
  {
   "cell_type": "code",
   "execution_count": 8,
   "id": "b447a72c",
   "metadata": {},
   "outputs": [
    {
     "name": "stdout",
     "output_type": "stream",
     "text": [
      "Número1: \n",
      "10\n",
      "numero2: \n",
      "12\n",
      "El resultado es 22\n"
     ]
    }
   ],
   "source": [
    "# Como lo hizo la Profesora en clase\n",
    "print(\"Número1: \")\n",
    "numero1 = input()\n",
    "print(\"numero2: \")\n",
    "numero2 = input()\n",
    "numero3 = int(numero1) + int(numero2) \n",
    "print(f\"El resultado es {numero3}\")"
   ]
  },
  {
   "cell_type": "code",
   "execution_count": null,
   "id": "b11e799c",
   "metadata": {},
   "outputs": [],
   "source": []
  }
 ],
 "metadata": {
  "kernelspec": {
   "display_name": "Python 3",
   "language": "python",
   "name": "python3"
  },
  "language_info": {
   "codemirror_mode": {
    "name": "ipython",
    "version": 3
   },
   "file_extension": ".py",
   "mimetype": "text/x-python",
   "name": "python",
   "nbconvert_exporter": "python",
   "pygments_lexer": "ipython3",
   "version": "3.8.8"
  }
 },
 "nbformat": 4,
 "nbformat_minor": 5
}
