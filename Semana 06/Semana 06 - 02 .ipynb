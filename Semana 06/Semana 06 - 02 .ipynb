{
 "cells": [
  {
   "cell_type": "markdown",
   "id": "ebb1658a",
   "metadata": {},
   "source": [
    "# SEMANA 06 - 02\n",
    "\n",
    "Diaz Seminario Daniel"
   ]
  },
  {
   "cell_type": "markdown",
   "id": "2d04404f",
   "metadata": {},
   "source": [
    "Temas\n",
    "1. Colecciones de datos\n",
    "2. Estructuras Decisivas y Estructuras Repetitivas\n",
    "3. Funciones \n",
    "4. Clases y Objetos"
   ]
  },
  {
   "cell_type": "markdown",
   "id": "4e5244e4",
   "metadata": {},
   "source": [
    "# 2. Estructuras Decisivas y Estructuras repetitivas (Bucles y Condiciones)"
   ]
  },
  {
   "cell_type": "markdown",
   "id": "6d322d2b",
   "metadata": {},
   "source": [
    "# 2.1 Estructuras Decisivas (if, else,elif)"
   ]
  },
  {
   "cell_type": "code",
   "execution_count": 8,
   "id": "d10ef213",
   "metadata": {},
   "outputs": [
    {
     "name": "stdout",
     "output_type": "stream",
     "text": [
      "Producto 1: 250\n",
      "Producto 2: 250\n",
      "Producto 3: 600\n",
      "total a pagar es:990.0\n"
     ]
    }
   ],
   "source": [
    "# if\n",
    "# Dado el precio de tres productos ingresados por el teclado, aplicar un descuento del 10%\n",
    "# si la venta es mayor o igual a 1000\n",
    "p1 = float(input(\"Producto 1: \"))\n",
    "p2 = float(input(\"Producto 2: \"))\n",
    "p3 = float(input(\"Producto 3: \"))\n",
    "total = p1 + p2 + p3\n",
    "if total >= 1000:\n",
    "    total*=0.9\n",
    "print(f\"total a pagar es:{total}\")"
   ]
  },
  {
   "cell_type": "code",
   "execution_count": 20,
   "id": "a248ee81",
   "metadata": {},
   "outputs": [
    {
     "name": "stdout",
     "output_type": "stream",
     "text": [
      "Ingrese nombre que busca: DIAZ\n",
      "Si está en la lista de LP3\n"
     ]
    }
   ],
   "source": [
    "# if - else \n",
    "# Dar una lista de [ALANYA, ALVA, GOMES, AZAÑERO, CARRRASCO, CCACCYA, CUSI, DIAZ, FLORES, GOMEZ, GOMEZ, GRANADOS, HUANZAS, JULCA, LAURA, MOTTA, PINEDO, PONCE, QUINTANA, RODRIGUEZ, SERNA, VILCA, YAURICASA]\n",
    "# Diseñar un programa que muestre si el apellido del estudiante se encuentra en la lista\n",
    "# Forma de la profesora\n",
    "LP3 = ['ALANYA', 'ALVA', 'GOMES', 'AZAÑERO', 'CARRASCO', 'CCACCYA', 'CUSI', 'DIAZ', 'FLORES', 'GOMEZ', 'GOMEZ', 'GRANADOS', 'HUANZAS', 'JULCA', 'LAURA', 'MOTTA', 'PINEDO', 'PONCE', 'QUINTANA', 'RODRIGUEZ', 'SERNA', 'VILCA', 'YAURICASA']\n",
    "apellido = input(\"Ingrese nombre que busca: \")\n",
    "# copmo los datos están en mayuscula, utilizamos upper()\n",
    "# o sea que al ingresar el apellido tanto en mayusculas o minusculas \n",
    "# el programa lo encontrará\n",
    "if apellido.upper() in LP3:\n",
    "    print(\"Si está en la lista de LP3\")\n",
    "else:\n",
    "        print(\"No está en la lista de LP3\")"
   ]
  },
  {
   "cell_type": "code",
   "execution_count": 1,
   "id": "9502c88a",
   "metadata": {},
   "outputs": [
    {
     "name": "stdout",
     "output_type": "stream",
     "text": [
      "Monto de ventas del empleado: 2000\n",
      "Categoria B\n"
     ]
    }
   ],
   "source": [
    "Monto = float(input(\"Monto de ventas del empleado: \"))\n",
    "if Monto >= 0 and Monto <= 1000:\n",
    "    print(\"Categoria A\")\n",
    "if Monto > 1000 and Monto <= 2000:\n",
    "    print(\"Categoria B\")\n",
    "if Monto > 2000 and Monto <= 5000:\n",
    "    print(\"Categoria C\")\n",
    "if Monto > 5000:\n",
    "    print(\"Categoria D\")\n"
   ]
  },
  {
   "cell_type": "code",
   "execution_count": 2,
   "id": "e6c56853",
   "metadata": {},
   "outputs": [
    {
     "name": "stdout",
     "output_type": "stream",
     "text": [
      "Monto de ventas del empleado: 2000\n",
      "Categoria B\n"
     ]
    }
   ],
   "source": [
    "# Dado el importe total de ventas realizadas por un trabajador (Ingresado por teclado)\n",
    "# Categorizar que tipo de empleado es, considerando la siguiente tabla\n",
    "# Categoria A --> [0,1000]\n",
    "# Categoria B --> [1000,2000]\n",
    "# Categoria C --> [2000,5000]\n",
    "# Categoria D --> [5000, más]\n",
    "Monto = float(input(\"Monto de ventas del empleado: \"))\n",
    "if Monto >= 0 and Monto <= 1000:\n",
    "    print(\"Categoria A\")\n",
    "elif Monto > 1000 and Monto <= 2000:\n",
    "    print(\"Categoria B\")\n",
    "elif Monto > 2000 and Monto <= 5000:\n",
    "    print(\"Categoria C\")\n",
    "elif Monto > 5000:\n",
    "    print(\"Categoria D\")"
   ]
  },
  {
   "cell_type": "markdown",
   "id": "cd771d52",
   "metadata": {},
   "source": [
    "# Estructuras Repetitivas\n",
    "# for\n"
   ]
  },
  {
   "cell_type": "markdown",
   "id": "ce321521",
   "metadata": {},
   "source": [
    "Mostrar los elementos de una lista usando for"
   ]
  },
  {
   "cell_type": "code",
   "execution_count": 3,
   "id": "e56b5404",
   "metadata": {},
   "outputs": [
    {
     "name": "stdout",
     "output_type": "stream",
     "text": [
      "Yauricasa\n",
      "Granados\n",
      "Alva\n",
      "Laura\n"
     ]
    }
   ],
   "source": [
    "aula = ['Yauricasa', 'Granados', 'Alva', 'Laura']\n",
    "# Por cada alumno que está en la lista, imprimir alumno\n",
    "for alumno in aula:\n",
    "    print(alumno)"
   ]
  },
  {
   "cell_type": "code",
   "execution_count": 4,
   "id": "c57c87c3",
   "metadata": {},
   "outputs": [
    {
     "name": "stdout",
     "output_type": "stream",
     "text": [
      "Ingrese cadena: daniel\n",
      "d\n",
      "a\n",
      "n\n",
      "i\n",
      "e\n",
      "l\n"
     ]
    }
   ],
   "source": [
    "# Problema 02:\n",
    "# Dado una cadena ingrese por teclado mostrar cada caracter\n",
    "# de la cadena utilizando la estructura for\n",
    "cadena = input(\"Ingrese cadena: \")\n",
    "for caracter in cadena:\n",
    "    print(caracter)"
   ]
  },
  {
   "cell_type": "code",
   "execution_count": 5,
   "id": "ccb34dee",
   "metadata": {},
   "outputs": [
    {
     "data": {
      "text/plain": [
       "range(0, 5)"
      ]
     },
     "execution_count": 5,
     "metadata": {},
     "output_type": "execute_result"
    }
   ],
   "source": [
    "# Para generar los rangos de los numeros\n",
    "# utilizamos range()\n",
    "range(5)"
   ]
  },
  {
   "cell_type": "code",
   "execution_count": 12,
   "id": "c4631a96",
   "metadata": {},
   "outputs": [
    {
     "name": "stdout",
     "output_type": "stream",
     "text": [
      "0\n",
      "1\n",
      "2\n",
      "3\n",
      "4\n",
      "5\n",
      "6\n",
      "7\n",
      "8\n",
      "9\n",
      "10\n"
     ]
    }
   ],
   "source": [
    "# imprimir los numeros de 0 a 10\n",
    "# utilizando for\n",
    "numeros = range(11)\n",
    "for numero in numeros:\n",
    "    print(numero)"
   ]
  },
  {
   "cell_type": "code",
   "execution_count": 13,
   "id": "09146b76",
   "metadata": {},
   "outputs": [
    {
     "name": "stdout",
     "output_type": "stream",
     "text": [
      "10\n",
      "12\n",
      "14\n",
      "16\n",
      "18\n",
      "20\n"
     ]
    }
   ],
   "source": [
    "# imprimir los numeros 10 al 20, utilizando for\n",
    "# los numeros pares \n",
    "#range(10,22,2) paranetro 10 al 20 y el 2 indica de cuantos ira yendo\n",
    "for numero in range(10,22,2):\n",
    "    print(numero)"
   ]
  },
  {
   "cell_type": "code",
   "execution_count": 16,
   "id": "85ab8ac0",
   "metadata": {},
   "outputs": [
    {
     "name": "stdout",
     "output_type": "stream",
     "text": [
      "LISTA INICIAL: \n",
      "[10, 20, 5, -10, 100, 0, 50, 17, 2000, -1000, 0]\n",
      "lista ordenada\n",
      "[-1000, -10, 0, 0, 5, 10, 17, 20, 50, 100, 2000]\n"
     ]
    }
   ],
   "source": [
    "# Problema 3\n",
    "# Dado una lista de números, utilizando el algoritmo de burbuja\n",
    "#ordenarlos de menor a mayor\n",
    "print(\"LISTA INICIAL: \")\n",
    "lista = [10,20,5,-10,100,0,50,17,2000,-1000,0]\n",
    "print(lista)\n",
    "for i in range(0,len(lista)-1):\n",
    "    for j in range(i+1, len(lista)):\n",
    "        if lista[i] > lista[j]:\n",
    "            temp = lista[i]\n",
    "            lista[i]=lista[j]\n",
    "            lista[j] = temp\n",
    "print(\"lista ordenada\")\n",
    "print(lista)"
   ]
  },
  {
   "cell_type": "code",
   "execution_count": 26,
   "id": "0bb2ece2",
   "metadata": {},
   "outputs": [
    {
     "name": "stdout",
     "output_type": "stream",
     "text": [
      "LISTA INICIAL: \n",
      "[10, 20, 5, -10, 100, 0, 50, 17, 2000, -1000, 0]\n",
      "[-1000, -10, 0, 0, 5, 10, 17, 20, 50, 100, 2000]\n"
     ]
    }
   ],
   "source": [
    "print(\"LISTA INICIAL: \")\n",
    "lista = [10,20,5,-10,100,0,50,17,2000,-1000,0]\n",
    "print(lista)\n",
    "for i in range(1, len(lista)):\n",
    "    for j in range(0, len(lista)-i):\n",
    "        if (lista[j+1] < lista[j]):\n",
    "            temp= lista[j]\n",
    "            lista[j] =  lista[j+1]\n",
    "            lista[j+1]= temp\n",
    "print(lista)"
   ]
  },
  {
   "cell_type": "markdown",
   "id": "d09444aa",
   "metadata": {},
   "source": [
    "# While"
   ]
  },
  {
   "cell_type": "markdown",
   "id": "e775d8ba",
   "metadata": {},
   "source": [
    "Ejemplo:"
   ]
  },
  {
   "cell_type": "code",
   "execution_count": 1,
   "id": "d7bd3932",
   "metadata": {},
   "outputs": [
    {
     "name": "stdout",
     "output_type": "stream",
     "text": [
      "1\n",
      "2\n",
      "3\n",
      "4\n",
      "5\n",
      "6\n",
      "7\n",
      "8\n",
      "9\n",
      "10\n"
     ]
    }
   ],
   "source": [
    "numero = 1\n",
    "fin = 10\n",
    "while numero <= fin:\n",
    "    print(numero)\n",
    "    numero+= 1"
   ]
  }
 ],
 "metadata": {
  "kernelspec": {
   "display_name": "Python 3",
   "language": "python",
   "name": "python3"
  },
  "language_info": {
   "codemirror_mode": {
    "name": "ipython",
    "version": 3
   },
   "file_extension": ".py",
   "mimetype": "text/x-python",
   "name": "python",
   "nbconvert_exporter": "python",
   "pygments_lexer": "ipython3",
   "version": "3.8.8"
  }
 },
 "nbformat": 4,
 "nbformat_minor": 5
}
