{
 "cells": [
  {
   "cell_type": "markdown",
   "id": "f5c5cfb7",
   "metadata": {},
   "source": [
    "# SEMANA 06 - 01\n",
    "Daniel Omar Diaz Seminario"
   ]
  },
  {
   "cell_type": "markdown",
   "id": "ae6b026e",
   "metadata": {},
   "source": [
    "Temas\n",
    "1. Colecciones de Datos"
   ]
  },
  {
   "cell_type": "markdown",
   "id": "72c22e87",
   "metadata": {},
   "source": [
    "# 1.1 Listas\n",
    "Es una coleccion de elementos que pueden ser ordenada, modificada, etc. que tiene que ver con las listas.\n",
    "se identifica que es una lista por los corchetes que muestra la lista."
   ]
  },
  {
   "cell_type": "code",
   "execution_count": 21,
   "id": "1289561f",
   "metadata": {},
   "outputs": [
    {
     "name": "stdout",
     "output_type": "stream",
     "text": [
      "['Yauricasa', 'Granados', 'Alva', 'Laura']\n"
     ]
    }
   ],
   "source": [
    "# Ejemplo:\n",
    "aula = ['Yauricasa', 'Granados', 'Alva', 'Laura']\n",
    "print(aula)"
   ]
  },
  {
   "cell_type": "code",
   "execution_count": 22,
   "id": "d7d320ea",
   "metadata": {},
   "outputs": [
    {
     "data": {
      "text/plain": [
       "['Yauricasa', 'Granados', 'Alva', 'Laura']"
      ]
     },
     "execution_count": 22,
     "metadata": {},
     "output_type": "execute_result"
    }
   ],
   "source": [
    "#Puedo invocar la variable solo poniendo aula\n",
    "aula"
   ]
  },
  {
   "cell_type": "code",
   "execution_count": 23,
   "id": "4099ba2a",
   "metadata": {},
   "outputs": [
    {
     "name": "stdout",
     "output_type": "stream",
     "text": [
      "Yauricasa\n",
      "Granados\n",
      "Laura\n"
     ]
    }
   ],
   "source": [
    "# Podemos extraer cada elemento por su posición\n",
    "print(aula[0])\n",
    "print(aula[1])\n",
    "print(aula[3])"
   ]
  },
  {
   "cell_type": "code",
   "execution_count": 24,
   "id": "765ebe89",
   "metadata": {},
   "outputs": [
    {
     "data": {
      "text/plain": [
       "'Chavez'"
      ]
     },
     "execution_count": 24,
     "metadata": {},
     "output_type": "execute_result"
    }
   ],
   "source": [
    "# Puedo asignar  un valor a una posicion de la lista\n",
    "aula[1] = 'Chavez'\n",
    "aula[1]"
   ]
  },
  {
   "cell_type": "code",
   "execution_count": 25,
   "id": "32165267",
   "metadata": {},
   "outputs": [
    {
     "data": {
      "text/plain": [
       "['Yauricasa', 'Chavez', 'Alva', 'Laura']"
      ]
     },
     "execution_count": 25,
     "metadata": {},
     "output_type": "execute_result"
    }
   ],
   "source": [
    "# Al hacer el cambio, se hizo que  chavez reemplazará a Granados\n",
    "# que estaba en la posicion [1]\n",
    "aula"
   ]
  },
  {
   "cell_type": "code",
   "execution_count": 32,
   "id": "7f3570f0",
   "metadata": {},
   "outputs": [],
   "source": [
    "# Para agregar un elemento\n",
    "aula.append(\"Huaman\")"
   ]
  },
  {
   "cell_type": "code",
   "execution_count": 27,
   "id": "7bad507f",
   "metadata": {},
   "outputs": [
    {
     "name": "stdout",
     "output_type": "stream",
     "text": [
      "['Yauricasa', 'Chavez', 'Alva', 'Laura', 'Huaman']\n"
     ]
    }
   ],
   "source": [
    "#El elemento agregado pasará a la ultima parte de la lista\n",
    "print(aula)"
   ]
  },
  {
   "cell_type": "code",
   "execution_count": 40,
   "id": "97df88e2",
   "metadata": {},
   "outputs": [],
   "source": [
    "aula.append(\"Huancas\")"
   ]
  },
  {
   "cell_type": "code",
   "execution_count": 29,
   "id": "96a9b259",
   "metadata": {},
   "outputs": [
    {
     "data": {
      "text/plain": [
       "['Yauricasa', 'Chavez', 'Alva', 'Laura', 'Huaman', 'Huancas']"
      ]
     },
     "execution_count": 29,
     "metadata": {},
     "output_type": "execute_result"
    }
   ],
   "source": [
    "aula"
   ]
  },
  {
   "cell_type": "code",
   "execution_count": 30,
   "id": "238b6576",
   "metadata": {},
   "outputs": [
    {
     "name": "stdout",
     "output_type": "stream",
     "text": [
      "['Yauricasa', 'Chavez', 'Alva', 'Laura', 'Huaman', 'Huancas']\n"
     ]
    }
   ],
   "source": [
    "# Ahora ¿Qué pasa si vuelvo a compilar la linea 16 de nuevo? \n",
    "# Lo que causará es que vuelva a agregar Huancas a la lista\n",
    "print(aula)"
   ]
  },
  {
   "cell_type": "code",
   "execution_count": 31,
   "id": "d96c4f57",
   "metadata": {},
   "outputs": [
    {
     "data": {
      "text/plain": [
       "['Yauricasa', 'Chavez', 'Alva', 'Laura', 'Huaman']"
      ]
     },
     "execution_count": 31,
     "metadata": {},
     "output_type": "execute_result"
    }
   ],
   "source": [
    "#Vemos que aparecen dos Huancas ahora, para esto \n",
    "# Usaremos el comando para eliminar elementos de la lista\n",
    "aula.remove(\"Huancas\")\n",
    "aula"
   ]
  },
  {
   "cell_type": "code",
   "execution_count": 49,
   "id": "7aa158aa",
   "metadata": {},
   "outputs": [
    {
     "data": {
      "text/plain": [
       "['Yauricasa',\n",
       " 'Chavez',\n",
       " 'Alva',\n",
       " 'Laura',\n",
       " 'Huaman',\n",
       " 'Huaman',\n",
       " 'Huancas',\n",
       " 'Laura',\n",
       " 'Laura',\n",
       " 'Huancas',\n",
       " 'Huancas',\n",
       " 'Diaz',\n",
       " 'Diaz',\n",
       " 'Diaz',\n",
       " 'Chavez',\n",
       " 'Chavez',\n",
       " 'Chavez',\n",
       " 'Chavez']"
      ]
     },
     "execution_count": 49,
     "metadata": {},
     "output_type": "execute_result"
    }
   ],
   "source": [
    "# Ahora  que pasaria si tuviera varios elementos iguales\n",
    "# Volveremos a compilar todo nuevamente para este ejemplo\n",
    "#Agregamos más alumnos\n",
    "aula"
   ]
  },
  {
   "cell_type": "code",
   "execution_count": 50,
   "id": "7d640590",
   "metadata": {},
   "outputs": [
    {
     "data": {
      "text/plain": [
       "['Yauricasa',\n",
       " 'Alva',\n",
       " 'Laura',\n",
       " 'Huaman',\n",
       " 'Huaman',\n",
       " 'Huancas',\n",
       " 'Laura',\n",
       " 'Laura',\n",
       " 'Huancas',\n",
       " 'Huancas',\n",
       " 'Diaz',\n",
       " 'Diaz',\n",
       " 'Diaz',\n",
       " 'Chavez',\n",
       " 'Chavez',\n",
       " 'Chavez',\n",
       " 'Chavez']"
      ]
     },
     "execution_count": 50,
     "metadata": {},
     "output_type": "execute_result"
    }
   ],
   "source": [
    "# Si hubiera varios elementos de valores iguales\n",
    "# se elimina primero las coincidencias\n",
    "aula.remove(\"Chavez\")\n",
    "aula"
   ]
  },
  {
   "cell_type": "code",
   "execution_count": 51,
   "id": "c7af371f",
   "metadata": {},
   "outputs": [
    {
     "data": {
      "text/plain": [
       "17"
      ]
     },
     "execution_count": 51,
     "metadata": {},
     "output_type": "execute_result"
    }
   ],
   "source": [
    "#Se elimina el primero de las coincidencias\n",
    "#segun su posición\n",
    "#Para ver el tamaño de la lista\n",
    "len(aula)"
   ]
  },
  {
   "cell_type": "code",
   "execution_count": 56,
   "id": "989a5507",
   "metadata": {},
   "outputs": [],
   "source": [
    "# Vuelvo a ejercutar\n",
    "aula.remove(\"Chavez\")"
   ]
  },
  {
   "cell_type": "code",
   "execution_count": 57,
   "id": "ff79aa1c",
   "metadata": {},
   "outputs": [
    {
     "data": {
      "text/plain": [
       "['Yauricasa',\n",
       " 'Alva',\n",
       " 'Laura',\n",
       " 'Huaman',\n",
       " 'Huaman',\n",
       " 'Huancas',\n",
       " 'Laura',\n",
       " 'Laura',\n",
       " 'Huancas',\n",
       " 'Huancas',\n",
       " 'Diaz',\n",
       " 'Diaz',\n",
       " 'Diaz',\n",
       " 'Chavez']"
      ]
     },
     "execution_count": 57,
     "metadata": {},
     "output_type": "execute_result"
    }
   ],
   "source": [
    "#Repito la ejecución con la linea anterior \n",
    "#Compilandola\n",
    "aula"
   ]
  },
  {
   "cell_type": "code",
   "execution_count": 58,
   "id": "a25ab0bd",
   "metadata": {},
   "outputs": [],
   "source": [
    "#Otra forma de eliminar elementos de la lista es\n",
    "aula.remove(aula[3])\n",
    "# Eliminaremos el elementos de la posición 4\n",
    "# que es Huaman"
   ]
  },
  {
   "cell_type": "code",
   "execution_count": 59,
   "id": "de396664",
   "metadata": {},
   "outputs": [
    {
     "data": {
      "text/plain": [
       "['Yauricasa',\n",
       " 'Alva',\n",
       " 'Laura',\n",
       " 'Huaman',\n",
       " 'Huancas',\n",
       " 'Laura',\n",
       " 'Laura',\n",
       " 'Huancas',\n",
       " 'Huancas',\n",
       " 'Diaz',\n",
       " 'Diaz',\n",
       " 'Diaz',\n",
       " 'Chavez']"
      ]
     },
     "execution_count": 59,
     "metadata": {},
     "output_type": "execute_result"
    }
   ],
   "source": [
    "#Vemos que el elemento fue eliminado con éxito\n",
    "aula"
   ]
  },
  {
   "cell_type": "code",
   "execution_count": 60,
   "id": "ad596ae1",
   "metadata": {},
   "outputs": [
    {
     "data": {
      "text/plain": [
       "'Laura'"
      ]
     },
     "execution_count": 60,
     "metadata": {},
     "output_type": "execute_result"
    }
   ],
   "source": [
    "#Otra forma de eliminar elementos\n",
    "# con esa funcion ponemos el lugar el cual\n",
    "# queremos eliminar pondremos el lugar 5\n",
    "# Donde esta Laura\n",
    "aula.pop(5)"
   ]
  },
  {
   "cell_type": "code",
   "execution_count": 63,
   "id": "0f0af0dd",
   "metadata": {},
   "outputs": [
    {
     "name": "stdout",
     "output_type": "stream",
     "text": [
      "['Yauricasa', 'Alva', 'Laura', 'Huaman', 'Huancas', 'Laura', 'Huancas', 'Huancas', 'Diaz', 'Diaz', 'Diaz', 'Chavez']\n"
     ]
    },
    {
     "data": {
      "text/plain": [
       "12"
      ]
     },
     "execution_count": 63,
     "metadata": {},
     "output_type": "execute_result"
    }
   ],
   "source": [
    "# Observamos que el lugar fue eliminado y nos indica \n",
    "# el elemento que se eliminó\n",
    "print(aula)\n",
    "len(aula)"
   ]
  },
  {
   "cell_type": "code",
   "execution_count": 64,
   "id": "b06a0508",
   "metadata": {},
   "outputs": [
    {
     "name": "stdout",
     "output_type": "stream",
     "text": [
      "['Yauricasa', 'Alva', 'Laura', 'Huaman', 'Huancas', 'Laura', 'Huancas', 'Diaz', 'Diaz', 'Diaz', 'Chavez']\n"
     ]
    },
    {
     "data": {
      "text/plain": [
       "11"
      ]
     },
     "execution_count": 64,
     "metadata": {},
     "output_type": "execute_result"
    }
   ],
   "source": [
    "aula.pop(6)\n",
    "print(aula)\n",
    "len(aula)"
   ]
  },
  {
   "cell_type": "code",
   "execution_count": 65,
   "id": "296f4ce8",
   "metadata": {},
   "outputs": [
    {
     "data": {
      "text/plain": [
       "'Chavez'"
      ]
     },
     "execution_count": 65,
     "metadata": {},
     "output_type": "execute_result"
    }
   ],
   "source": [
    "# Si solo ponemos la funcion aula.pop() sin agregar la posición\n",
    "# de forma automática eliminará la última posición\n",
    "aula.pop()"
   ]
  },
  {
   "cell_type": "code",
   "execution_count": 66,
   "id": "05d7ba15",
   "metadata": {},
   "outputs": [
    {
     "data": {
      "text/plain": [
       "'Diaz'"
      ]
     },
     "execution_count": 66,
     "metadata": {},
     "output_type": "execute_result"
    }
   ],
   "source": [
    "aula.pop()"
   ]
  },
  {
   "cell_type": "code",
   "execution_count": 67,
   "id": "a3e9c3db",
   "metadata": {},
   "outputs": [
    {
     "data": {
      "text/plain": [
       "['Yauricasa',\n",
       " 'Alva',\n",
       " 'Laura',\n",
       " 'Huaman',\n",
       " 'Huancas',\n",
       " 'Laura',\n",
       " 'Huancas',\n",
       " 'Diaz',\n",
       " 'Diaz']"
      ]
     },
     "execution_count": 67,
     "metadata": {},
     "output_type": "execute_result"
    }
   ],
   "source": [
    "aula"
   ]
  },
  {
   "cell_type": "code",
   "execution_count": 74,
   "id": "4285f9db",
   "metadata": {},
   "outputs": [
    {
     "name": "stdout",
     "output_type": "stream",
     "text": [
      "['Yauricasa', 'Alva', 'Laura', 'Huaman', 'Huancas', 'Diaz']\n"
     ]
    }
   ],
   "source": [
    "#Eliminaremos todos los elementos repetidos\n",
    "#aula.pop()\n",
    "#aula.append(\"Diaz\")\n",
    "print(aula)"
   ]
  },
  {
   "cell_type": "code",
   "execution_count": 75,
   "id": "e5d5d8fa",
   "metadata": {},
   "outputs": [
    {
     "name": "stdout",
     "output_type": "stream",
     "text": [
      "Yauricasa\n",
      "Alva\n",
      "Laura\n",
      "Huaman\n",
      "Huancas\n",
      "Diaz\n"
     ]
    }
   ],
   "source": [
    "#Estructuras repetitivas\n",
    "for alumno in aula:\n",
    "    print(alumno)"
   ]
  },
  {
   "cell_type": "code",
   "execution_count": 76,
   "id": "6d7c0050",
   "metadata": {},
   "outputs": [
    {
     "name": "stdout",
     "output_type": "stream",
     "text": [
      "['Yauricasa', 'Alva', 'Laura', 'Huaman', 'Huancas', 'Diaz', 'Vilca', 'Gavino']\n"
     ]
    }
   ],
   "source": [
    "aula.append(\"Vilca\")\n",
    "aula.append(\"Gavino\")\n",
    "print(aula)"
   ]
  },
  {
   "cell_type": "code",
   "execution_count": 77,
   "id": "3f41e326",
   "metadata": {},
   "outputs": [
    {
     "name": "stdout",
     "output_type": "stream",
     "text": [
      "Yauricasa\n",
      "Alva\n",
      "Laura\n",
      "Huaman\n",
      "Huancas\n",
      "Diaz\n",
      "Vilca\n",
      "Gavino\n"
     ]
    }
   ],
   "source": [
    "for alumno in aula:\n",
    "    print(alumno)"
   ]
  },
  {
   "cell_type": "code",
   "execution_count": 78,
   "id": "71374976",
   "metadata": {},
   "outputs": [
    {
     "name": "stdout",
     "output_type": "stream",
     "text": [
      "['Gavino', 'Vilca', 'Diaz', 'Huancas', 'Huaman', 'Laura', 'Alva', 'Yauricasa']\n"
     ]
    }
   ],
   "source": [
    "# Invertirmos la lista\n",
    "# Se invierte segun las posiciones, no de orden alfabético\n",
    "aula.reverse()\n",
    "print(aula)"
   ]
  },
  {
   "cell_type": "code",
   "execution_count": 79,
   "id": "f0f229e0",
   "metadata": {},
   "outputs": [
    {
     "name": "stdout",
     "output_type": "stream",
     "text": [
      "['Alva', 'Diaz', 'Gavino', 'Huaman', 'Huancas', 'Laura', 'Vilca', 'Yauricasa']\n"
     ]
    }
   ],
   "source": [
    "# Si quisiera ordenar la lista\n",
    "# Orden de manera ascendente\n",
    "aula.sort()\n",
    "print(aula)"
   ]
  },
  {
   "cell_type": "markdown",
   "id": "9bc1e274",
   "metadata": {},
   "source": [
    "# 1.2 Tuplas\n",
    "Es una colección de elementos ordenada(Ordenado significa que tiene un indice)que no se pueden modificar, es INALTERABLE.  \n",
    "En las tuplas no se pueden agregar elementos ni eliminar, se identifican por los parentesis "
   ]
  },
  {
   "cell_type": "code",
   "execution_count": 81,
   "id": "b45fa190",
   "metadata": {},
   "outputs": [
    {
     "data": {
      "text/plain": [
       "('Granados', 'Julca', 'Cusi', 'Marcos')"
      ]
     },
     "execution_count": 81,
     "metadata": {},
     "output_type": "execute_result"
    }
   ],
   "source": [
    "#Ejemplo\n",
    "tupla_aula = ('Granados','Julca','Cusi','Marcos')\n",
    "tupla_aula"
   ]
  },
  {
   "cell_type": "code",
   "execution_count": 82,
   "id": "ff243bac",
   "metadata": {},
   "outputs": [
    {
     "name": "stdout",
     "output_type": "stream",
     "text": [
      "Granados\n",
      "Julca\n",
      "Cusi\n",
      "Marcos\n"
     ]
    }
   ],
   "source": [
    "# Se puede recorrer con una estrutura repetitiva\n",
    "# ejemplo: for\n",
    "for alumno in tupla_aula:\n",
    "    print(alumno)"
   ]
  },
  {
   "cell_type": "code",
   "execution_count": 88,
   "id": "3329ec23",
   "metadata": {},
   "outputs": [
    {
     "data": {
      "text/plain": [
       "'Cusi'"
      ]
     },
     "execution_count": 88,
     "metadata": {},
     "output_type": "execute_result"
    }
   ],
   "source": [
    "# Se puede extraer un elemento por su posición\n",
    "tupla_aula[2]"
   ]
  },
  {
   "cell_type": "code",
   "execution_count": 89,
   "id": "d65e3680",
   "metadata": {},
   "outputs": [
    {
     "data": {
      "text/plain": [
       "4"
      ]
     },
     "execution_count": 89,
     "metadata": {},
     "output_type": "execute_result"
    }
   ],
   "source": [
    "len(tupla_aula)"
   ]
  },
  {
   "cell_type": "markdown",
   "id": "348f8358",
   "metadata": {},
   "source": [
    "# 1.3 Conjuntos\n",
    "Es un conjunto de elementos que no esta ordenado(significa que no tiene un indice)\n",
    "estos se muestran entre llaves {}"
   ]
  },
  {
   "cell_type": "code",
   "execution_count": 91,
   "id": "2af5c661",
   "metadata": {},
   "outputs": [
    {
     "name": "stdout",
     "output_type": "stream",
     "text": [
      "{'Cusi', 'Julca', 'Marcos', 'Granados'}\n"
     ]
    }
   ],
   "source": [
    "conjunto_aula = {'Granados','Julca','Cusi','Marcos'}\n",
    "print(conjunto_aula)"
   ]
  },
  {
   "cell_type": "code",
   "execution_count": 92,
   "id": "f36ff58b",
   "metadata": {},
   "outputs": [
    {
     "name": "stdout",
     "output_type": "stream",
     "text": [
      "Cusi\n",
      "Julca\n",
      "Marcos\n",
      "Granados\n"
     ]
    }
   ],
   "source": [
    "# Se puede recorrer utilizando una estructura repetitiva\n",
    "for alumno in conjunto_aula:\n",
    "    print(alumno)"
   ]
  },
  {
   "cell_type": "code",
   "execution_count": 93,
   "id": "a6d8b492",
   "metadata": {},
   "outputs": [
    {
     "ename": "TypeError",
     "evalue": "'set' object is not subscriptable",
     "output_type": "error",
     "traceback": [
      "\u001b[1;31m---------------------------------------------------------------------------\u001b[0m",
      "\u001b[1;31mTypeError\u001b[0m                                 Traceback (most recent call last)",
      "\u001b[1;32m<ipython-input-93-4ca7b52e6e46>\u001b[0m in \u001b[0;36m<module>\u001b[1;34m\u001b[0m\n\u001b[0;32m      1\u001b[0m \u001b[1;31m#Observación: no se puede acceder por posición\u001b[0m\u001b[1;33m\u001b[0m\u001b[1;33m\u001b[0m\u001b[1;33m\u001b[0m\u001b[0m\n\u001b[0;32m      2\u001b[0m \u001b[1;31m# porque no considera indexación\u001b[0m\u001b[1;33m\u001b[0m\u001b[1;33m\u001b[0m\u001b[1;33m\u001b[0m\u001b[0m\n\u001b[1;32m----> 3\u001b[1;33m \u001b[0mconjunto_aula\u001b[0m\u001b[1;33m[\u001b[0m\u001b[1;36m2\u001b[0m\u001b[1;33m]\u001b[0m\u001b[1;33m\u001b[0m\u001b[1;33m\u001b[0m\u001b[0m\n\u001b[0m",
      "\u001b[1;31mTypeError\u001b[0m: 'set' object is not subscriptable"
     ]
    }
   ],
   "source": [
    "#Observación: no se puede acceder por posición \n",
    "# porque no considera indexación\n",
    "conjunto_aula[2]\n",
    "# No muestra error"
   ]
  },
  {
   "cell_type": "code",
   "execution_count": 94,
   "id": "7b6cb24c",
   "metadata": {},
   "outputs": [
    {
     "data": {
      "text/plain": [
       "4"
      ]
     },
     "execution_count": 94,
     "metadata": {},
     "output_type": "execute_result"
    }
   ],
   "source": [
    "len(conjunto_aula)"
   ]
  },
  {
   "cell_type": "code",
   "execution_count": 95,
   "id": "cc5e413b",
   "metadata": {},
   "outputs": [],
   "source": [
    "# Para agregar utilizamos la función add()\n",
    "conjunto_aula.add(\"Diaz\")"
   ]
  },
  {
   "cell_type": "code",
   "execution_count": 96,
   "id": "556aaa94",
   "metadata": {},
   "outputs": [
    {
     "name": "stdout",
     "output_type": "stream",
     "text": [
      "{'Julca', 'Cusi', 'Diaz', 'Granados', 'Marcos'}\n"
     ]
    }
   ],
   "source": [
    "print(conjunto_aula)"
   ]
  },
  {
   "cell_type": "code",
   "execution_count": 97,
   "id": "0f1110cd",
   "metadata": {},
   "outputs": [],
   "source": [
    "# Para eliminar \n",
    "conjunto_aula.remove(\"Diaz\")"
   ]
  },
  {
   "cell_type": "code",
   "execution_count": 98,
   "id": "5c552532",
   "metadata": {},
   "outputs": [
    {
     "name": "stdout",
     "output_type": "stream",
     "text": [
      "{'Julca', 'Cusi', 'Granados', 'Marcos'}\n"
     ]
    }
   ],
   "source": [
    "print(conjunto_aula)"
   ]
  },
  {
   "cell_type": "markdown",
   "id": "269471dd",
   "metadata": {},
   "source": [
    "# 1.4 Diccionarios\n",
    "Es una colección de elementos, que están indexados(no están ordenados y se pueden modificar). Son escritos entre llaves y están formados por pares de elementos \n",
    "INDICE:VALOR"
   ]
  },
  {
   "cell_type": "code",
   "execution_count": 99,
   "id": "5e79e114",
   "metadata": {},
   "outputs": [
    {
     "name": "stdout",
     "output_type": "stream",
     "text": [
      "{2: 'Cusi', '1': 'Julca', 'dos': 'Marcos', '0': 'Motta'}\n"
     ]
    }
   ],
   "source": [
    "diccionario_aula = {2:'Cusi','1':'Julca','dos':'Marcos', '0':'Motta'}\n",
    "print(diccionario_aula)"
   ]
  },
  {
   "cell_type": "code",
   "execution_count": 100,
   "id": "5ca2be5b",
   "metadata": {},
   "outputs": [
    {
     "data": {
      "text/plain": [
       "'Motta'"
      ]
     },
     "execution_count": 100,
     "metadata": {},
     "output_type": "execute_result"
    }
   ],
   "source": [
    "# Extraer el valor cuyo indice sea del tipo cadena\n",
    "diccionario_aula['0']"
   ]
  },
  {
   "cell_type": "code",
   "execution_count": 101,
   "id": "9c921ee8",
   "metadata": {},
   "outputs": [
    {
     "data": {
      "text/plain": [
       "'Cusi'"
      ]
     },
     "execution_count": 101,
     "metadata": {},
     "output_type": "execute_result"
    }
   ],
   "source": [
    "diccionario_aula[2]"
   ]
  },
  {
   "cell_type": "code",
   "execution_count": 102,
   "id": "b7a19e58",
   "metadata": {},
   "outputs": [
    {
     "data": {
      "text/plain": [
       "'Marcos'"
      ]
     },
     "execution_count": 102,
     "metadata": {},
     "output_type": "execute_result"
    }
   ],
   "source": [
    "diccionario_aula['dos']"
   ]
  },
  {
   "cell_type": "code",
   "execution_count": 103,
   "id": "f60e859c",
   "metadata": {},
   "outputs": [
    {
     "name": "stdout",
     "output_type": "stream",
     "text": [
      "{2: 'Cusi', '1': 'Julca', 'dos': 'Marcos', '0': 'Motta', '20': 'Cerna'}\n"
     ]
    }
   ],
   "source": [
    "# Agregar elementos al diccionario\n",
    "diccionario_aula['20'] = \"Cerna\"\n",
    "print(diccionario_aula)"
   ]
  },
  {
   "cell_type": "code",
   "execution_count": 104,
   "id": "b5bebe7e",
   "metadata": {},
   "outputs": [
    {
     "data": {
      "text/plain": [
       "{'1': 'Julca', 'dos': 'Marcos', '0': 'Motta', '20': 'Cerna'}"
      ]
     },
     "execution_count": 104,
     "metadata": {},
     "output_type": "execute_result"
    }
   ],
   "source": [
    "# Para eliminar un elemento\n",
    "# Elimina al que tiene indice 2\n",
    "diccionario_aula.pop(2)\n",
    "diccionario_aula"
   ]
  },
  {
   "cell_type": "code",
   "execution_count": 105,
   "id": "54f8f5c2",
   "metadata": {},
   "outputs": [
    {
     "name": "stdout",
     "output_type": "stream",
     "text": [
      "{'1': 'Julca', '0': 'Motta', '20': 'Cerna'}\n"
     ]
    }
   ],
   "source": [
    "# Otra funcion que permite eliminar elementos de diccionario \n",
    "del(diccionario_aula[\"dos\"])\n",
    "print(diccionario_aula)\n"
   ]
  },
  {
   "cell_type": "code",
   "execution_count": 106,
   "id": "095d9066",
   "metadata": {},
   "outputs": [
    {
     "name": "stdout",
     "output_type": "stream",
     "text": [
      "1\n",
      "0\n",
      "20\n"
     ]
    }
   ],
   "source": [
    "# Podemos recorrer todos los elementos utilizando for\n",
    "# Devuelve los indices\n",
    "for indice in diccionario_aula:\n",
    "    print(indice)"
   ]
  },
  {
   "cell_type": "code",
   "execution_count": 107,
   "id": "c81669de",
   "metadata": {},
   "outputs": [
    {
     "name": "stdout",
     "output_type": "stream",
     "text": [
      "1 Julca\n",
      "0 Motta\n",
      "20 Cerna\n"
     ]
    }
   ],
   "source": [
    "# Para obtener el indice y el valor de cada elemento utilizamos items\n",
    "for indice, valor in diccionario_aula.items():\n",
    "    print(indice,valor)"
   ]
  },
  {
   "cell_type": "markdown",
   "id": "9c4d6a73",
   "metadata": {},
   "source": [
    "Ejercicio\n",
    "Dado una lista de [ALANYA, ALVA, GOMES, AZAÑERO, CARRRASCO, CCACCYA, CUSI, DIAZ, FLORES, GOMEZ, GOMEZ, GRANADOS, HUANZAS, JULCA, LAURA, MOTTA, PINEDO, PONCE, QUINTANA, RODRIGUEZ, SERNA, VILCA, YAURICASA] Diseñar un código que muestre si el apellido de un estudiante (que sea ingreso por teclado forma parte de la lista)\n"
   ]
  },
  {
   "cell_type": "code",
   "execution_count": 136,
   "id": "4e391974",
   "metadata": {},
   "outputs": [
    {
     "name": "stdout",
     "output_type": "stream",
     "text": [
      "Ingrese el apellido del estudiante: mama\n",
      "El alumno no está en la lista\n"
     ]
    }
   ],
   "source": [
    "# Tenemos que buscar el datos que ingresemos por teclado y para esto tenemos que buscarlo dentro de la listas\n",
    "# por lo que if nombre in lista_salon indica que va a buscar el nombre dentro de la listra \n",
    "lista_salon = ['ALANYA', 'ALVA', 'GOMES', 'AZAÑERO', 'CARRASCO', 'CCACCYA', 'CUSI', 'DIAZ', 'FLORES', 'GOMEZ', 'GOMEZ', 'GRANADOS', 'HUANZAS', 'JULCA', 'LAURA', 'MOTTA', 'PINEDO', 'PONCE', 'QUINTANA', 'RODRIGUEZ', 'SERNA', 'VILCA', 'YAURICASA']\n",
    "nombre = input(\"Ingrese el apellido del estudiante: \")\n",
    "if nombre in lista_salon:\n",
    "    print(\"El alumno está en la lista\")\n",
    "else:\n",
    "    print(\"El alumno no está en la lista\")\n",
    "\n",
    "    "
   ]
  },
  {
   "cell_type": "code",
   "execution_count": 142,
   "id": "b13c9a41",
   "metadata": {},
   "outputs": [
    {
     "name": "stdout",
     "output_type": "stream",
     "text": [
      "Ingrese el apellido del estudiante: cusi\n",
      "El alumno no está en la lista\n"
     ]
    }
   ],
   "source": [
    "# Otra manera de resolver el ejercicio fue usando ELIF que permite crear otra condición\n",
    "# en este caso use lo opuesto a in, que es not in que (no está).\n",
    "lista_salon = ['ALANYA', 'ALVA', 'GOMES', 'AZAÑERO', 'CARRASCO', 'CCACCYA', 'CUSI', 'DIAZ', 'FLORES', 'GOMEZ', 'GOMEZ', 'GRANADOS', 'HUANZAS', 'JULCA', 'LAURA', 'MOTTA', 'PINEDO', 'PONCE', 'QUINTANA', 'RODRIGUEZ', 'SERNA', 'VILCA', 'YAURICASA']\n",
    "nombre = input(\"Ingrese el apellido del estudiante: \")\n",
    "if nombre in lista_salon:\n",
    "    print(\"El alumno está en la lista\")\n",
    "elif nombre not in lista_salon:\n",
    "    print(\"El alumno no está en la lista\")"
   ]
  }
 ],
 "metadata": {
  "kernelspec": {
   "display_name": "Python 3",
   "language": "python",
   "name": "python3"
  },
  "language_info": {
   "codemirror_mode": {
    "name": "ipython",
    "version": 3
   },
   "file_extension": ".py",
   "mimetype": "text/x-python",
   "name": "python",
   "nbconvert_exporter": "python",
   "pygments_lexer": "ipython3",
   "version": "3.8.8"
  }
 },
 "nbformat": 4,
 "nbformat_minor": 5
}
