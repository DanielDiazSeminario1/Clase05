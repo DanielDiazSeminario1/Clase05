{
 "cells": [
  {
   "cell_type": "markdown",
   "id": "030cdcb0",
   "metadata": {},
   "source": [
    "# Semana 06\n",
    "Daniel Diaz Seminario\n"
   ]
  },
  {
   "cell_type": "markdown",
   "id": "2c6e16b0",
   "metadata": {},
   "source": [
    "Temas\n",
    "1. Colecciones de datos\n",
    "2. Estructuras Decisivas y Estructuras Repetitivas\n",
    "3. Funciones \n",
    "4. Clases y Objetos"
   ]
  },
  {
   "cell_type": "markdown",
   "id": "588597b1",
   "metadata": {},
   "source": [
    "# 4. Clases y Objetos\n"
   ]
  },
  {
   "cell_type": "code",
   "execution_count": 1,
   "id": "2cf69773",
   "metadata": {},
   "outputs": [
    {
     "name": "stdout",
     "output_type": "stream",
     "text": [
      "Persona1\n",
      "Nombre: Pablo\n",
      "Apellido: Perez Gonzales\n",
      "DNI: 12345678\n",
      "Talla: 1.7\n"
     ]
    }
   ],
   "source": [
    "# Problema 1:\n",
    "    # Crear la siguiente clase\n",
    "# - CLASE: Persona\n",
    "# - Atributos: nombre, apellido. talla, dni\n",
    "class persona:\n",
    "    nombre = \"\"\n",
    "    apellidos = \"\"\n",
    "    dni = \"\"\n",
    "    talla = 0\n",
    "\n",
    "# Crear un objeto persona1 de la clase Persona\n",
    "# y le asignamos  valores\n",
    "#creación del objeto persona1\n",
    "persona1 = persona()\n",
    "# Asignamos valores \n",
    "persona1.nombre = \"Pablo\"\n",
    "persona1.apellidos = \"Perez Gonzales\"\n",
    "persona1.dni = \"12345678\"\n",
    "persona1.talla = 1.7\n",
    "\n",
    "# Para mostrar los valores del objeto: \n",
    "\n",
    "print(\"Persona1\")\n",
    "print(f\"Nombre: {persona1.nombre}\")\n",
    "print(f\"Apellido: {persona1.apellidos}\")\n",
    "print(f\"DNI: {persona1.dni}\")\n",
    "print(f\"Talla: {persona1.talla}\")\n"
   ]
  },
  {
   "cell_type": "code",
   "execution_count": 5,
   "id": "df004696",
   "metadata": {},
   "outputs": [
    {
     "name": "stdout",
     "output_type": "stream",
     "text": [
      "Curso: LP3\n",
      "Codigo: C0501\n",
      "Horas: 6\n",
      "Créditos: 3\n"
     ]
    }
   ],
   "source": [
    "# Tambien podemos usar constructores: __init__\n",
    "#¿Qué es un constructor?\n",
    "# Es un método, sirve para inicializar valores a una\n",
    "# clase\n",
    "#Crear la siguiente clase y utilizar constructores\n",
    "# - clase: curso\n",
    "# atributos: codigo, nombre, horas, creditos.\n",
    "class Curso:\n",
    "    def __init__ (self, codigo, nombre, horas, creditos):\n",
    "        self.codigo = codigo\n",
    "        self.nombre = nombre\n",
    "        self.horas = horas\n",
    "        self.creditos = creditos\n",
    "        \n",
    "    def mostrar_datos_curso(self):\n",
    "        print(f\"Curso: {self.nombre}\")\n",
    "        print(f\"Codigo: {self.codigo}\")\n",
    "        print(f\"Horas: {self.horas}\")\n",
    "        print(f\"Créditos: {self.creditos}\")\n",
    "# Creamos el objeto curso1 para asignarle parámetros\n",
    "curso1 = Curso(\"C0501\",\"LP3\",6,3)\n",
    "#Creamos los datos completos del curso, ejecutando\n",
    "# el metodo mostar_datos_curso()\n",
    "curso1.mostrar_datos_curso();"
   ]
  }
 ],
 "metadata": {
  "kernelspec": {
   "display_name": "Python 3",
   "language": "python",
   "name": "python3"
  },
  "language_info": {
   "codemirror_mode": {
    "name": "ipython",
    "version": 3
   },
   "file_extension": ".py",
   "mimetype": "text/x-python",
   "name": "python",
   "nbconvert_exporter": "python",
   "pygments_lexer": "ipython3",
   "version": "3.8.8"
  }
 },
 "nbformat": 4,
 "nbformat_minor": 5
}
