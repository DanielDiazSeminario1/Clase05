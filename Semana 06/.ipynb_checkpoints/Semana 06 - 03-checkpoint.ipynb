{
 "cells": [
  {
   "cell_type": "markdown",
   "id": "3df7888d",
   "metadata": {},
   "source": [
    "# Semana 06\n",
    "Daniel Diaz Seminario\n"
   ]
  },
  {
   "cell_type": "markdown",
   "id": "6cb7d940",
   "metadata": {},
   "source": [
    "Temas\n",
    "1. Colecciones de datos\n",
    "2. Estructuras Decisivas y Estructuras Repetitivas\n",
    "3. Funciones \n",
    "4. Clases y Objetos"
   ]
  },
  {
   "cell_type": "markdown",
   "id": "3a4f43c7",
   "metadata": {},
   "source": [
    "# 3. Funciones\n"
   ]
  },
  {
   "cell_type": "markdown",
   "id": "0b7d61ac",
   "metadata": {},
   "source": [
    "Tambien conocidas como metodos.\n",
    "Para crear un método utilizamos def\n",
    "tenemos cuatro metodos:\n",
    "- Métodos Vacios\n",
    "- Métodos que reciben valores\n",
    "- Métodos que devuelven un valor\n",
    "- Métodos que reciben y devuelven valores"
   ]
  },
  {
   "cell_type": "markdown",
   "id": "d41d51fa",
   "metadata": {},
   "source": [
    "    3.1 Métodos Vacios\n",
    "    no reciben parámetros(No reciben valores)"
   ]
  },
  {
   "cell_type": "code",
   "execution_count": 5,
   "id": "a46453bb",
   "metadata": {},
   "outputs": [
    {
     "name": "stdout",
     "output_type": "stream",
     "text": [
      "Bienvenidos al curso de lp3: \n",
      "*** PYTHON ***\n"
     ]
    }
   ],
   "source": [
    "def saluda():\n",
    "    print(\"Bienvenidos al curso de lp3: \")\n",
    "    print(\"*** PYTHON ***\")\n",
    "saluda()"
   ]
  },
  {
   "cell_type": "markdown",
   "id": "d99e4ed1",
   "metadata": {},
   "source": [
    "3.2 Métodos que reciben valores"
   ]
  },
  {
   "cell_type": "code",
   "execution_count": 12,
   "id": "a7521fa6",
   "metadata": {
    "scrolled": true
   },
   "outputs": [
    {
     "name": "stdout",
     "output_type": "stream",
     "text": [
      "Ingrese el numero: 8\n",
      "El factorial es: 1\n",
      "El factorial es: 2\n",
      "El factorial es: 6\n",
      "El factorial es: 24\n",
      "El factorial es: 120\n",
      "El factorial es: 720\n",
      "El factorial es: 5040\n",
      "El factorial es: 40320\n"
     ]
    }
   ],
   "source": [
    "def factorial(numero):\n",
    "    fac = 1\n",
    "    for i in range(1, numero+1):\n",
    "        fac*=i\n",
    "        # fac = fac * i\n",
    "        print(f\"El factorial es: {fac}\")\n",
    "        \n",
    "numero = int(input(\"Ingrese el numero: \"))\n",
    "factorial(numero)"
   ]
  },
  {
   "cell_type": "markdown",
   "id": "30e8f926",
   "metadata": {},
   "source": [
    "3.3 Métodos que devuelven valores"
   ]
  },
  {
   "cell_type": "code",
   "execution_count": 20,
   "id": "0550be39",
   "metadata": {},
   "outputs": [
    {
     "name": "stdout",
     "output_type": "stream",
     "text": [
      "Bienvenidos a lp3\n"
     ]
    }
   ],
   "source": [
    "def saludo2():\n",
    "    mensaje = \"Bienvenidos a lp3\"\n",
    "    return mensaje\n",
    "saludo2()"
   ]
  },
  {
   "cell_type": "markdown",
   "id": "a331a1d1",
   "metadata": {},
   "source": [
    "3.4 Métodos que reciben y devuelven valores"
   ]
  },
  {
   "cell_type": "code",
   "execution_count": 25,
   "id": "aa84272b",
   "metadata": {},
   "outputs": [
    {
     "name": "stdout",
     "output_type": "stream",
     "text": [
      "Número: 8\n",
      "El facotiral del 8 es: 40320\n"
     ]
    }
   ],
   "source": [
    "def factorial2(numero):\n",
    "    fac = 1\n",
    "    for i in range(1, numero+1):\n",
    "        fac *=i\n",
    "    return fac\n",
    "numero = int(input(\"Número: \"))\n",
    "print(f\"El facotiral del {numero} es: {factorial2(numero)}\")\n"
   ]
  }
 ],
 "metadata": {
  "kernelspec": {
   "display_name": "Python 3",
   "language": "python",
   "name": "python3"
  },
  "language_info": {
   "codemirror_mode": {
    "name": "ipython",
    "version": 3
   },
   "file_extension": ".py",
   "mimetype": "text/x-python",
   "name": "python",
   "nbconvert_exporter": "python",
   "pygments_lexer": "ipython3",
   "version": "3.8.8"
  }
 },
 "nbformat": 4,
 "nbformat_minor": 5
}
