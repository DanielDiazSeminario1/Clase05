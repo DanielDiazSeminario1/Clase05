{
 "cells": [
  {
   "cell_type": "markdown",
   "id": "89ddd69a",
   "metadata": {},
   "source": [
    "# SEMANA 05\n",
    "Daniel Omar Diaz Seminario"
   ]
  },
  {
   "cell_type": "markdown",
   "id": "a1aa61ec",
   "metadata": {},
   "source": [
    "Temas"
   ]
  },
  {
   "cell_type": "markdown",
   "id": "9d537f9a",
   "metadata": {},
   "source": [
    "1. Números \n",
    "2. Variables\n",
    "3. Manejo de Cadenas\n",
    "4. Ingreso de datos por teclado\n",
    "5. Operadores"
   ]
  },
  {
   "cell_type": "markdown",
   "id": "22e942db",
   "metadata": {},
   "source": [
    "3. Manejo de Cadenas"
   ]
  },
  {
   "cell_type": "code",
   "execution_count": 2,
   "id": "886fe99b",
   "metadata": {},
   "outputs": [
    {
     "data": {
      "text/plain": [
       "'Universidad Nacional Tecnológica de Lima Sur'"
      ]
     },
     "execution_count": 2,
     "metadata": {},
     "output_type": "execute_result"
    }
   ],
   "source": [
    "cadena = \"Universidad Nacional Tecnológica de Lima Sur\"\n",
    "cadena"
   ]
  },
  {
   "cell_type": "code",
   "execution_count": 7,
   "id": "e362b0d8",
   "metadata": {},
   "outputs": [],
   "source": [
    "# Universidad Nacional Tecnológica de Lima Sur\n",
    "# 0123456............... (Posición que ocupan)\n",
    "#Se toma en cuenta los espacios en blanco\n",
    "# Si cuento posiciones al reves\n",
    "# Universidad Nacional Tecnológica de Lima Sur\n",
    "#                                  ...-4-3-2-1 "
   ]
  },
  {
   "cell_type": "code",
   "execution_count": 8,
   "id": "f2c51e02",
   "metadata": {},
   "outputs": [
    {
     "data": {
      "text/plain": [
       "'r'"
      ]
     },
     "execution_count": 8,
     "metadata": {},
     "output_type": "execute_result"
    }
   ],
   "source": [
    "#Para extraer un caracter o elemento  de la variable cadena\n",
    "cadena[5]"
   ]
  },
  {
   "cell_type": "code",
   "execution_count": 9,
   "id": "3a23e8b9",
   "metadata": {},
   "outputs": [
    {
     "data": {
      "text/plain": [
       "'d'"
      ]
     },
     "execution_count": 9,
     "metadata": {},
     "output_type": "execute_result"
    }
   ],
   "source": [
    "cadena[10]"
   ]
  },
  {
   "cell_type": "code",
   "execution_count": 11,
   "id": "d7072000",
   "metadata": {},
   "outputs": [
    {
     "data": {
      "text/plain": [
       "' '"
      ]
     },
     "execution_count": 11,
     "metadata": {},
     "output_type": "execute_result"
    }
   ],
   "source": [
    "cadena[11]\n",
    "#espacio en blanco porque toma en cuenta los espacios"
   ]
  },
  {
   "cell_type": "code",
   "execution_count": 13,
   "id": "751c683c",
   "metadata": {},
   "outputs": [
    {
     "data": {
      "text/plain": [
       "'r'"
      ]
     },
     "execution_count": 13,
     "metadata": {},
     "output_type": "execute_result"
    }
   ],
   "source": [
    "#cuenta al reves usando los negativos o forma inversa\n",
    "cadena[-1]"
   ]
  },
  {
   "cell_type": "code",
   "execution_count": 14,
   "id": "a8d73c82",
   "metadata": {},
   "outputs": [
    {
     "data": {
      "text/plain": [
       "'l'"
      ]
     },
     "execution_count": 14,
     "metadata": {},
     "output_type": "execute_result"
    }
   ],
   "source": [
    "cadena[-25]"
   ]
  },
  {
   "cell_type": "code",
   "execution_count": 15,
   "id": "83406825",
   "metadata": {},
   "outputs": [
    {
     "data": {
      "text/plain": [
       "'versi'"
      ]
     },
     "execution_count": 15,
     "metadata": {},
     "output_type": "execute_result"
    }
   ],
   "source": [
    "# Mostramos una Subcadena (Muestra lo que pide hasta una posición antes)\n",
    "# En java era substring()\n",
    "cadena[3:8]"
   ]
  },
  {
   "cell_type": "code",
   "execution_count": 16,
   "id": "1e8fd2f1",
   "metadata": {},
   "outputs": [
    {
     "data": {
      "text/plain": [
       "'Universida'"
      ]
     },
     "execution_count": 16,
     "metadata": {},
     "output_type": "execute_result"
    }
   ],
   "source": [
    "cadena[0:10]"
   ]
  },
  {
   "cell_type": "code",
   "execution_count": 17,
   "id": "2f186e8e",
   "metadata": {},
   "outputs": [
    {
     "data": {
      "text/plain": [
       "44"
      ]
     },
     "execution_count": 17,
     "metadata": {},
     "output_type": "execute_result"
    }
   ],
   "source": [
    "# Ahora mostraremos el tamaño de la cadena \n",
    "# Usamos len(), recordar que toma en cuenta espaciosm en blanco\n",
    "len(cadena)"
   ]
  },
  {
   "cell_type": "code",
   "execution_count": 19,
   "id": "13772268",
   "metadata": {},
   "outputs": [],
   "source": [
    "# Para mostrar cadenas a mayusculas usamos\n",
    "#upper()"
   ]
  },
  {
   "cell_type": "code",
   "execution_count": 20,
   "id": "0789894a",
   "metadata": {},
   "outputs": [
    {
     "data": {
      "text/plain": [
       "'UNIVERSIDAD NACIONAL TECNOLÓGICA DE LIMA SUR'"
      ]
     },
     "execution_count": 20,
     "metadata": {},
     "output_type": "execute_result"
    }
   ],
   "source": [
    "cadena.upper()"
   ]
  },
  {
   "cell_type": "code",
   "execution_count": 21,
   "id": "c1e50f40",
   "metadata": {},
   "outputs": [
    {
     "data": {
      "text/plain": [
       "'Universidad Nacional Tecnológica de Lima Sur'"
      ]
     },
     "execution_count": 21,
     "metadata": {},
     "output_type": "execute_result"
    }
   ],
   "source": [
    "cadena"
   ]
  },
  {
   "cell_type": "code",
   "execution_count": 22,
   "id": "453cb18a",
   "metadata": {},
   "outputs": [
    {
     "data": {
      "text/plain": [
       "'UNIVERSIDAD NACIONAL TECNOLÓGICA DE LIMA SUR'"
      ]
     },
     "execution_count": 22,
     "metadata": {},
     "output_type": "execute_result"
    }
   ],
   "source": [
    "#Ahora para cambiarlo o modificar cadena para que sea siempre mayuscula\n",
    "cadena = cadena.upper()\n",
    "cadena"
   ]
  },
  {
   "cell_type": "code",
   "execution_count": 24,
   "id": "73ada52c",
   "metadata": {
    "scrolled": true
   },
   "outputs": [
    {
     "data": {
      "text/plain": [
       "'UNIVERSIDAD NACIONAL TECNOLÓGICA DE LIMA SUR'"
      ]
     },
     "execution_count": 24,
     "metadata": {},
     "output_type": "execute_result"
    }
   ],
   "source": [
    "# Vemos que se modificó completamente \n",
    "cadena"
   ]
  },
  {
   "cell_type": "code",
   "execution_count": 25,
   "id": "82886546",
   "metadata": {},
   "outputs": [
    {
     "data": {
      "text/plain": [
       "'universidad nacional tecnológica de lima sur'"
      ]
     },
     "execution_count": 25,
     "metadata": {},
     "output_type": "execute_result"
    }
   ],
   "source": [
    "# Para mostrar cadena en letras minusculas usamos\n",
    "# lower()\n",
    "cadena.lower()"
   ]
  },
  {
   "cell_type": "code",
   "execution_count": 26,
   "id": "8f2dd3d7",
   "metadata": {},
   "outputs": [
    {
     "data": {
      "text/plain": [
       "'universidad nacional tecnológica de lima sur'"
      ]
     },
     "execution_count": 26,
     "metadata": {},
     "output_type": "execute_result"
    }
   ],
   "source": [
    "# Para modificar cadena solo a minuscula para siempre \n",
    "cadena = cadena.lower()\n",
    "cadena"
   ]
  },
  {
   "cell_type": "code",
   "execution_count": 27,
   "id": "800e494d",
   "metadata": {},
   "outputs": [
    {
     "data": {
      "text/plain": [
       "'universidad nacional tecnológica de lima sur'"
      ]
     },
     "execution_count": 27,
     "metadata": {},
     "output_type": "execute_result"
    }
   ],
   "source": [
    "cadena"
   ]
  },
  {
   "cell_type": "code",
   "execution_count": 28,
   "id": "471ab3c4",
   "metadata": {},
   "outputs": [
    {
     "data": {
      "text/plain": [
       "['universidad', 'nacional', 'tecnológica', 'de', 'lima', 'sur']"
      ]
     },
     "execution_count": 28,
     "metadata": {},
     "output_type": "execute_result"
    }
   ],
   "source": [
    "# Para generar una lista a partir de cadena\n",
    "# las listas siempre se muestran entre corchetes\n",
    "# .split()\n",
    "cadena.split()"
   ]
  },
  {
   "cell_type": "code",
   "execution_count": 30,
   "id": "61ee3ae5",
   "metadata": {},
   "outputs": [
    {
     "data": {
      "text/plain": [
       "['universid', 'd n', 'cion', 'l tecnológic', ' de lim', ' sur']"
      ]
     },
     "execution_count": 30,
     "metadata": {},
     "output_type": "execute_result"
    }
   ],
   "source": [
    "# Generar una lista con criterio de separación a partir de una cadena\n",
    "# .split(\"letra\"), en este caso vamos a generar una lista de toda la cadena\n",
    "# Utilizando como criterio de separación la letra a\n",
    "cadena.split(\"a\")"
   ]
  },
  {
   "cell_type": "code",
   "execution_count": 32,
   "id": "52a9b3e7",
   "metadata": {},
   "outputs": [
    {
     "name": "stdout",
     "output_type": "stream",
     "text": [
      "Buenos días Daniel Omar\n"
     ]
    }
   ],
   "source": [
    "# Concatenamos\n",
    "# Forma Clásica +\n",
    "nombre = \"Daniel Omar\"\n",
    "print(\"Buenos días \" + nombre)"
   ]
  },
  {
   "cell_type": "code",
   "execution_count": 34,
   "id": "288903e3",
   "metadata": {},
   "outputs": [
    {
     "name": "stdout",
     "output_type": "stream",
     "text": [
      "hola Pablo Lévano ya sé que tienes 12 años \n"
     ]
    }
   ],
   "source": [
    "# Contatenando usando .format{}\n",
    "\n",
    "nombre = \"Pablo Lévano\"\n",
    "edad = 12\n",
    "\n",
    "print(\"hola {} ya sé que tienes {} años \".format(nombre, edad))"
   ]
  },
  {
   "cell_type": "code",
   "execution_count": 35,
   "id": "8d69a1b2",
   "metadata": {},
   "outputs": [
    {
     "name": "stdout",
     "output_type": "stream",
     "text": [
      "10/3 es 3.3333333333333335 \n"
     ]
    }
   ],
   "source": [
    "# Dar formato a números con muchos decimales \n",
    "resultado = 10/3\n",
    "print(\"10/3 es {} \".format(resultado))"
   ]
  },
  {
   "cell_type": "code",
   "execution_count": 46,
   "id": "e5147808",
   "metadata": {},
   "outputs": [
    {
     "name": "stdout",
     "output_type": "stream",
     "text": [
      "10/3 es = 3.333 \n"
     ]
    }
   ],
   "source": [
    "# Ajustamos la cantidad de decimales que queremos que aparezca\n",
    "# dentro de las llaves agregamos {r:1.3f} dpmde \n",
    "# r:1 r de resultado\n",
    "# .3f la cantidad de la parte decimal en este caso 3\n",
    "# y en la parte .format() demtro donde iria la variable resultado\n",
    "# ponemos r = resultado, a r se le asigna resultado\n",
    "resultado = 10/3\n",
    "print(\"10/3 es = {r:1.3f} \".format(r = resultado))"
   ]
  },
  {
   "cell_type": "code",
   "execution_count": 49,
   "id": "e27f5ede",
   "metadata": {},
   "outputs": [
    {
     "name": "stdout",
     "output_type": "stream",
     "text": [
      "Buenos Días Daniel Omar, ya sé que tienes 10 años\n"
     ]
    }
   ],
   "source": [
    "# Dar formato con f, concatenamos esta forma\n",
    "# la función f, está disponible desde la versión 3.6 en adelante\n",
    "nombre = \"Daniel Omar\"\n",
    "edad = 10\n",
    "print(f\"Buenos Días {nombre}, ya sé que tienes {edad} años\")"
   ]
  },
  {
   "cell_type": "code",
   "execution_count": 50,
   "id": "a518a8b3",
   "metadata": {},
   "outputs": [
    {
     "name": "stdout",
     "output_type": "stream",
     "text": [
      "10/3 es = 3.3333333333333335 \n"
     ]
    }
   ],
   "source": [
    "# Dar formato a números con muchos decimales\n",
    "resultado = 10/3\n",
    "print(f\"10/3 es = {resultado} \")"
   ]
  },
  {
   "cell_type": "code",
   "execution_count": 51,
   "id": "485f5de0",
   "metadata": {},
   "outputs": [
    {
     "name": "stdout",
     "output_type": "stream",
     "text": [
      "10/3 es = 3.333\n"
     ]
    }
   ],
   "source": [
    "print(f\"10/3 es = {resultado:1.3f}\")"
   ]
  },
  {
   "cell_type": "code",
   "execution_count": null,
   "id": "46c1ab4e",
   "metadata": {},
   "outputs": [],
   "source": []
  }
 ],
 "metadata": {
  "kernelspec": {
   "display_name": "Python 3",
   "language": "python",
   "name": "python3"
  },
  "language_info": {
   "codemirror_mode": {
    "name": "ipython",
    "version": 3
   },
   "file_extension": ".py",
   "mimetype": "text/x-python",
   "name": "python",
   "nbconvert_exporter": "python",
   "pygments_lexer": "ipython3",
   "version": "3.8.8"
  }
 },
 "nbformat": 4,
 "nbformat_minor": 5
}
